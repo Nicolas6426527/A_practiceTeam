{
 "cells": [
  {
   "cell_type": "code",
   "execution_count": 1,
   "metadata": {},
   "outputs": [],
   "source": [
    "import pandas as pd\n",
    "import numpy as np\n",
    "import matplotlib.pyplot as plt\n",
    "import seaborn as sns"
   ]
  },
  {
   "cell_type": "markdown",
   "metadata": {},
   "source": [
    "## 解題步驟：\n",
    "\n",
    "1. 將 train.csv, test.csv 合併\n",
    "2. 取出 LotFrontage, GarageYrBlt, MasVnrArea 三個特徵的資料\n",
    "3. 分別以平均值及中位數來填補缺失值\n",
    "4. 分析缺失值，練習繪製直方圖及機率圖 (如下圖)\n",
    "5. 分別計算原本、以平均值填補、以中位數填補的標準差\n",
    "6. 課後問答\n",
    "\n",
    "<img src=\"./data/hist_plot.png\" style=\"zoom:100%;\" />\n",
    "\n",
    "## Hint\n",
    "\n",
    "* [pandas.DataFrame.fillna()](https://pandas.pydata.org/pandas-docs/stable/reference/api/pandas.DataFrame.fillna.html)\n",
    "* [seaborn.histplot](\n",
    "\n",
    "\n",
    "## 讀取資料"
   ]
  },
  {
   "cell_type": "code",
   "execution_count": 4,
   "metadata": {},
   "outputs": [],
   "source": [
    "\"\"\" Your code hear: 讀取 train.csv, test.csv 並合併 \"\"\"\n",
    "train = pd.read_csv(\"../Example/week3/train.csv\")\n",
    "test = pd.read_csv(\"../Example/week3/test.csv\")\n",
    "total = pd.concat([train,test]).reset_index()"
   ]
  },
  {
   "cell_type": "markdown",
   "metadata": {},
   "source": [
    "## 分離目標"
   ]
  },
  {
   "cell_type": "code",
   "execution_count": 40,
   "metadata": {},
   "outputs": [],
   "source": [
    "# 將目標分析欄位取出來\n",
    "\"\"\" Your code hear: \"\"\"\n",
    "col = [\"LotFrontage\", \"GarageYrBlt\", \"MasVnrArea\"]"
   ]
  },
  {
   "cell_type": "markdown",
   "metadata": {},
   "source": [
    "## 繪圖"
   ]
  },
  {
   "cell_type": "code",
   "execution_count": 37,
   "metadata": {},
   "outputs": [
    {
     "data": {
      "text/plain": [
       "<AxesSubplot:>"
      ]
     },
     "execution_count": 37,
     "metadata": {},
     "output_type": "execute_result"
    },
    {
     "data": {
      "image/png": "[encoded data removed]",
      "text/plain": [
       "<Figure size 432x288 with 1 Axes>"
      ]
     },
     "metadata": {
      "needs_background": "light"
     },
     "output_type": "display_data"
    }
   ],
   "source": [
    "# 繪圖\n",
    "\"\"\" Your code hear: \"\"\"\n",
    "miss_df=total[col].isnull().sum()\n",
    "miss_df=miss_df[miss_df>0].sort_values(ascending=False)\n",
    "miss_df.plot.bar()"
   ]
  },
  {
   "cell_type": "code",
   "execution_count": 38,
   "metadata": {},
   "outputs": [
    {
     "name": "stdout",
     "output_type": "stream",
     "text": [
      "LotFrontage  is continual. Missing 17.7397%\n",
      "GarageYrBlt  is continual. Missing 5.5479%\n",
      "MasVnrArea   is continual. Missing 0.5479%\n"
     ]
    }
   ],
   "source": [
    "discrete = total.columns[total.dtypes == 'object']\n",
    "for i , col  in zip(miss_df[miss_df>0] ,miss_df.index):\n",
    "    if col in discrete:\n",
    "        print(f'{col:12} is discrete.' ,end = ' ')\n",
    "    else:\n",
    "        print(f'{col:12} is continual.' ,end = ' ')\n",
    "    print(f'Missing {i / total.shape[0] :.4%}')"
   ]
  },
  {
   "cell_type": "markdown",
   "metadata": {},
   "source": [
    "## 填補平均值、中位數\n",
    "\n"
   ]
  },
  {
   "cell_type": "code",
   "execution_count": 49,
   "metadata": {},
   "outputs": [],
   "source": [
    "train_mean=train[col].mean()\n",
    "train_median = train[col].median()"
   ]
  },
  {
   "cell_type": "code",
   "execution_count": 64,
   "metadata": {},
   "outputs": [],
   "source": [
    "\n",
    "mean_df =pd.DataFrame()\n",
    "median_df =pd.DataFrame()\n",
    "for i in col:\n",
    "    mean_df[i] = total[i].fillna(train_mean[i])\n",
    "    median_df[i] = total[i].fillna(train_median[i])\n"
   ]
  },
  {
   "cell_type": "markdown",
   "metadata": {},
   "source": [
    "## 分析標準差"
   ]
  },
  {
   "cell_type": "code",
   "execution_count": 107,
   "metadata": {},
   "outputs": [
    {
     "data": {
      "text/plain": [
       "<AxesSubplot:>"
      ]
     },
     "execution_count": 107,
     "metadata": {},
     "output_type": "execute_result"
    },
    {
     "data": {
      "image/png": "[encoded data removed]",
      "text/plain": [
       "<Figure size 432x288 with 1 Axes>"
      ]
     },
     "metadata": {
      "needs_background": "light"
     },
     "output_type": "display_data"
    }
   ],
   "source": [
    "\"\"\" Your code hear: \"\"\"\n",
    "pd.DataFrame({\"orign\":total[col].std() , \"mean\":mean_df.std(),\"median\":median_df.std()}).plot.bar()"
   ]
  },
  {
   "cell_type": "markdown",
   "metadata": {},
   "source": [
    "## 透過分析標準差可以得到什麼結果？"
   ]
  },
  {
   "cell_type": "markdown",
   "metadata": {},
   "source": [
    "填補後各標準差比較下來，無影響，表示該特徵填補空值後，該特徵的分布沒有影響到"
   ]
  }
 ],
 "metadata": {
  "kernelspec": {
   "display_name": "Python 3",
   "language": "python",
   "name": "python3"
  },
  "language_info": {
   "codemirror_mode": {
    "name": "ipython",
    "version": 3
   },
   "file_extension": ".py",
   "mimetype": "text/x-python",
   "name": "python",
   "nbconvert_exporter": "python",
   "pygments_lexer": "ipython3",
   "version": "3.9.5"
  }
 },
 "nbformat": 4,
 "nbformat_minor": 4
}
